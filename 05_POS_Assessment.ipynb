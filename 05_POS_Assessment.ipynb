{
  "cells": [
    {
      "cell_type": "markdown",
      "metadata": {
        "collapsed": true,
        "id": "filk9Sv5s0hl"
      },
      "source": [
        "___\n",
        "\n",
        "<a href='http://www.pieriandata.com'> <img src='../Pierian_Data_Logo.png' /></a>\n",
        "___"
      ]
    },
    {
      "cell_type": "markdown",
      "metadata": {
        "id": "BnCRWq8ns0hr"
      },
      "source": [
        "# Parts of Speech Assessment"
      ]
    },
    {
      "cell_type": "markdown",
      "metadata": {
        "id": "FMi1fffls0hs"
      },
      "source": [
        "For this assessment we'll be using the short story [The Tale of Peter Rabbit](https://en.wikipedia.org/wiki/The_Tale_of_Peter_Rabbit) by Beatrix Potter (1902). <br>The story is in the public domain; the text file was obtained from [Project Gutenberg](https://www.gutenberg.org/ebooks/14838.txt.utf-8)."
      ]
    },
    {
      "cell_type": "code",
      "execution_count": 1,
      "metadata": {
        "id": "ztc4scZUs0ht"
      },
      "outputs": [],
      "source": [
        "# RUN THIS CELL to perform standard imports:\n",
        "import spacy\n",
        "nlp = spacy.load('en_core_web_sm')\n",
        "from spacy import displacy"
      ]
    },
    {
      "cell_type": "code",
      "source": [
        "nlp.pipeline"
      ],
      "metadata": {
        "colab": {
          "base_uri": "https://localhost:8080/"
        },
        "id": "nWxPscwQGnOS",
        "outputId": "9bbeee74-4bbf-4c56-d326-26c1a66dd489"
      },
      "execution_count": 7,
      "outputs": [
        {
          "output_type": "execute_result",
          "data": {
            "text/plain": [
              "[('tok2vec', <spacy.pipeline.tok2vec.Tok2Vec at 0x7c81f89215a0>),\n",
              " ('tagger', <spacy.pipeline.tagger.Tagger at 0x7c81f8921660>),\n",
              " ('parser', <spacy.pipeline.dep_parser.DependencyParser at 0x7c81fcfbfe60>),\n",
              " ('attribute_ruler',\n",
              "  <spacy.pipeline.attributeruler.AttributeRuler at 0x7c81f89c6bc0>),\n",
              " ('lemmatizer',\n",
              "  <spacy.lang.en.lemmatizer.EnglishLemmatizer at 0x7c81f8889200>),\n",
              " ('ner', <spacy.pipeline.ner.EntityRecognizer at 0x7c81fca0f8b0>)]"
            ]
          },
          "metadata": {},
          "execution_count": 7
        }
      ]
    },
    {
      "cell_type": "code",
      "source": [
        "nlp.pipe_names"
      ],
      "metadata": {
        "colab": {
          "base_uri": "https://localhost:8080/"
        },
        "id": "FOKfgIc4GrH_",
        "outputId": "2c2e4816-30a7-4ced-8404-39364e2f220b"
      },
      "execution_count": 8,
      "outputs": [
        {
          "output_type": "execute_result",
          "data": {
            "text/plain": [
              "['tok2vec', 'tagger', 'parser', 'attribute_ruler', 'lemmatizer', 'ner']"
            ]
          },
          "metadata": {},
          "execution_count": 8
        }
      ]
    },
    {
      "cell_type": "markdown",
      "metadata": {
        "id": "7O9ChY6Hs0hx"
      },
      "source": [
        "**1. Create a Doc object from the file `peterrabbit.txt`**<br>\n",
        "> HINT: Use `with open('../TextFiles/peterrabbit.txt') as f:`"
      ]
    },
    {
      "cell_type": "code",
      "execution_count": 11,
      "metadata": {
        "id": "5NsRoCl2s0hy"
      },
      "outputs": [],
      "source": [
        "with open(\"/content/The Tale of Peter Rabbit is a child.txt\", \"r\") as file:\n",
        "    text = file.read()\n",
        "doc = nlp(text)"
      ]
    },
    {
      "cell_type": "markdown",
      "metadata": {
        "id": "Q3e-ZrBWs0hy"
      },
      "source": [
        "**2. For every token in the third sentence, print the token text, the POS tag, the fine-grained TAG tag, and the description of the fine-grained tag.**"
      ]
    },
    {
      "cell_type": "code",
      "execution_count": 16,
      "metadata": {
        "id": "UJETqf7ss0hz",
        "colab": {
          "base_uri": "https://localhost:8080/"
        },
        "outputId": "612bcbe1-f2ac-4f5f-ffe2-7f92e88476d9"
      },
      "outputs": [
        {
          "output_type": "stream",
          "name": "stdout",
          "text": [
            "Token: The\n",
            "POS Tag: DET\n",
            "Fine-grained TAG: DT\n",
            "Description of Fine-grained TAG: determiner\n",
            "--------------------\n",
            "Token: tale\n",
            "POS Tag: NOUN\n",
            "Fine-grained TAG: NN\n",
            "Description of Fine-grained TAG: noun, singular or mass\n",
            "--------------------\n",
            "Token: was\n",
            "POS Tag: AUX\n",
            "Fine-grained TAG: VBD\n",
            "Description of Fine-grained TAG: verb, past tense\n",
            "--------------------\n",
            "Token: written\n",
            "POS Tag: VERB\n",
            "Fine-grained TAG: VBN\n",
            "Description of Fine-grained TAG: verb, past participle\n",
            "--------------------\n",
            "Token: for\n",
            "POS Tag: ADP\n",
            "Fine-grained TAG: IN\n",
            "Description of Fine-grained TAG: conjunction, subordinating or preposition\n",
            "--------------------\n",
            "Token: five\n",
            "POS Tag: NUM\n",
            "Fine-grained TAG: CD\n",
            "Description of Fine-grained TAG: cardinal number\n",
            "--------------------\n",
            "Token: -\n",
            "POS Tag: PUNCT\n",
            "Fine-grained TAG: HYPH\n",
            "Description of Fine-grained TAG: punctuation mark, hyphen\n",
            "--------------------\n",
            "Token: year\n",
            "POS Tag: NOUN\n",
            "Fine-grained TAG: NN\n",
            "Description of Fine-grained TAG: noun, singular or mass\n",
            "--------------------\n",
            "Token: -\n",
            "POS Tag: PUNCT\n",
            "Fine-grained TAG: HYPH\n",
            "Description of Fine-grained TAG: punctuation mark, hyphen\n",
            "--------------------\n",
            "Token: old\n",
            "POS Tag: ADJ\n",
            "Fine-grained TAG: JJ\n",
            "Description of Fine-grained TAG: adjective (English), other noun-modifier (Chinese)\n",
            "--------------------\n",
            "Token: Noel\n",
            "POS Tag: PROPN\n",
            "Fine-grained TAG: NNP\n",
            "Description of Fine-grained TAG: noun, proper singular\n",
            "--------------------\n",
            "Token: Moore\n",
            "POS Tag: PROPN\n",
            "Fine-grained TAG: NNP\n",
            "Description of Fine-grained TAG: noun, proper singular\n",
            "--------------------\n",
            "Token: ,\n",
            "POS Tag: PUNCT\n",
            "Fine-grained TAG: ,\n",
            "Description of Fine-grained TAG: punctuation mark, comma\n",
            "--------------------\n",
            "Token: the\n",
            "POS Tag: DET\n",
            "Fine-grained TAG: DT\n",
            "Description of Fine-grained TAG: determiner\n",
            "--------------------\n",
            "Token: son\n",
            "POS Tag: NOUN\n",
            "Fine-grained TAG: NN\n",
            "Description of Fine-grained TAG: noun, singular or mass\n",
            "--------------------\n",
            "Token: of\n",
            "POS Tag: ADP\n",
            "Fine-grained TAG: IN\n",
            "Description of Fine-grained TAG: conjunction, subordinating or preposition\n",
            "--------------------\n",
            "Token: Potter\n",
            "POS Tag: PROPN\n",
            "Fine-grained TAG: NNP\n",
            "Description of Fine-grained TAG: noun, proper singular\n",
            "--------------------\n",
            "Token: 's\n",
            "POS Tag: PART\n",
            "Fine-grained TAG: POS\n",
            "Description of Fine-grained TAG: possessive ending\n",
            "--------------------\n",
            "Token: former\n",
            "POS Tag: ADJ\n",
            "Fine-grained TAG: JJ\n",
            "Description of Fine-grained TAG: adjective (English), other noun-modifier (Chinese)\n",
            "--------------------\n",
            "Token: governess\n",
            "POS Tag: NOUN\n",
            "Fine-grained TAG: NN\n",
            "Description of Fine-grained TAG: noun, singular or mass\n",
            "--------------------\n",
            "Token: ,\n",
            "POS Tag: PUNCT\n",
            "Fine-grained TAG: ,\n",
            "Description of Fine-grained TAG: punctuation mark, comma\n",
            "--------------------\n",
            "Token: Annie\n",
            "POS Tag: PROPN\n",
            "Fine-grained TAG: NNP\n",
            "Description of Fine-grained TAG: noun, proper singular\n",
            "--------------------\n",
            "Token: Carter\n",
            "POS Tag: PROPN\n",
            "Fine-grained TAG: NNP\n",
            "Description of Fine-grained TAG: noun, proper singular\n",
            "--------------------\n",
            "Token: Moore\n",
            "POS Tag: PROPN\n",
            "Fine-grained TAG: NNP\n",
            "Description of Fine-grained TAG: noun, proper singular\n",
            "--------------------\n",
            "Token: ,\n",
            "POS Tag: PUNCT\n",
            "Fine-grained TAG: ,\n",
            "Description of Fine-grained TAG: punctuation mark, comma\n",
            "--------------------\n",
            "Token: in\n",
            "POS Tag: ADP\n",
            "Fine-grained TAG: IN\n",
            "Description of Fine-grained TAG: conjunction, subordinating or preposition\n",
            "--------------------\n",
            "Token: 1893\n",
            "POS Tag: NUM\n",
            "Fine-grained TAG: CD\n",
            "Description of Fine-grained TAG: cardinal number\n",
            "--------------------\n",
            "Token: .\n",
            "POS Tag: PUNCT\n",
            "Fine-grained TAG: .\n",
            "Description of Fine-grained TAG: punctuation mark, sentence closer\n",
            "--------------------\n"
          ]
        }
      ],
      "source": [
        "# Enter your code here:\n",
        "t_sent = list(doc.sents)[2]\n",
        "for token in t_sent:\n",
        "  print(f\"Token: {token.text}\")\n",
        "  print(f\"POS Tag: {token.pos_}\")\n",
        "  print(f\"Fine-grained TAG: {token.tag_}\")\n",
        "  print(f\"Description of Fine-grained TAG: {spacy.explain(token.tag_)}\")\n",
        "  print(\"-\" * 20)"
      ]
    },
    {
      "cell_type": "markdown",
      "metadata": {
        "id": "4x470orRs0h2"
      },
      "source": [
        "**3. Provide a frequency list of POS tags from the entire document**"
      ]
    },
    {
      "cell_type": "code",
      "source": [
        "from collections import Counter"
      ],
      "metadata": {
        "id": "z5nr-OhHK0HA"
      },
      "execution_count": 19,
      "outputs": []
    },
    {
      "cell_type": "code",
      "execution_count": 20,
      "metadata": {
        "id": "Po2HvLyXs0h2",
        "colab": {
          "base_uri": "https://localhost:8080/"
        },
        "outputId": "aef65037-03c7-4764-e356-affd4c6fae8e"
      },
      "outputs": [
        {
          "output_type": "stream",
          "name": "stdout",
          "text": [
            "POS Tag Frequency List:\n",
            "DET: 10\n",
            "PROPN: 19\n",
            "ADP: 20\n",
            "AUX: 10\n",
            "NOUN: 24\n",
            "PART: 3\n",
            "VERB: 18\n",
            "CCONJ: 9\n",
            "PRON: 11\n",
            "ADJ: 7\n",
            "SCONJ: 2\n",
            "PUNCT: 18\n",
            "ADV: 5\n",
            "NUM: 8\n"
          ]
        }
      ],
      "source": [
        "pos_tag_counter = Counter()\n",
        "\n",
        "# Iterate through all tokens in the document and count POS tags\n",
        "for token in doc:\n",
        "    pos_tag_counter[token.pos_] += 1\n",
        "print(\"POS Tag Frequency List:\")\n",
        "for pos_tag, count in pos_tag_counter.items():\n",
        "    print(f\"{pos_tag}: {count}\")"
      ]
    },
    {
      "cell_type": "markdown",
      "metadata": {
        "id": "FoTNmXZ8s0h4"
      },
      "source": [
        "**4. CHALLENGE: What percentage of tokens are nouns?**<br>\n",
        "HINT: the attribute ID for 'NOUN' is 91"
      ]
    },
    {
      "cell_type": "code",
      "execution_count": 21,
      "metadata": {
        "id": "CLlbs4P5s0h4",
        "colab": {
          "base_uri": "https://localhost:8080/"
        },
        "outputId": "7ca5b807-5e33-465a-897b-cfb0b3e8b2bb"
      },
      "outputs": [
        {
          "output_type": "stream",
          "name": "stdout",
          "text": [
            "Percentage of tokens that are nouns: 14.63%\n"
          ]
        }
      ],
      "source": [
        "noun_count = sum(1 for token in doc if token.pos_ == \"NOUN\")\n",
        "\n",
        "total_t = len(doc)\n",
        "percentage_n = (noun_count/total_t)*100\n",
        "\n",
        "print(f\"Percentage of tokens that are nouns: {percentage_n:.2f}%\")\n"
      ]
    },
    {
      "cell_type": "markdown",
      "metadata": {
        "id": "Qume_ILgs0h5"
      },
      "source": [
        "**5. Display the Dependency Parse for the third sentence**"
      ]
    },
    {
      "cell_type": "code",
      "execution_count": 22,
      "metadata": {
        "id": "K5J2onrvs0h6",
        "colab": {
          "base_uri": "https://localhost:8080/"
        },
        "outputId": "e94d1aa0-e1c3-41b5-d526-42bdb1b8518a"
      },
      "outputs": [
        {
          "output_type": "stream",
          "name": "stdout",
          "text": [
            "Dependency Parse for the Third Sentence: \n",
            "The-->det-->tale\n",
            "tale-->nsubjpass-->written\n",
            "was-->auxpass-->written\n",
            "written-->ROOT-->written\n",
            "for-->prep-->written\n",
            "five-->nummod-->year\n",
            "--->punct-->year\n",
            "year-->npadvmod-->old\n",
            "--->punct-->old\n",
            "old-->amod-->Moore\n",
            "Noel-->compound-->Moore\n",
            "Moore-->pobj-->for\n",
            ",-->punct-->Moore\n",
            "the-->det-->son\n",
            "son-->appos-->Moore\n",
            "of-->prep-->son\n",
            "Potter-->poss-->governess\n",
            "'s-->case-->Potter\n",
            "former-->amod-->governess\n",
            "governess-->pobj-->of\n",
            ",-->punct-->Moore\n",
            "Annie-->compound-->Moore\n",
            "Carter-->compound-->Moore\n",
            "Moore-->appos-->Moore\n",
            ",-->punct-->Moore\n",
            "in-->prep-->written\n",
            "1893-->pobj-->in\n",
            ".-->punct-->written\n"
          ]
        }
      ],
      "source": [
        "t_sent = list(doc.sents)[2]\n",
        "\n",
        "print(\"Dependency Parse for the Third Sentence: \")\n",
        "\n",
        "for token in t_sent:\n",
        "  print(f\"{token.text}-->{token.dep_}-->{token.head.text}\")"
      ]
    },
    {
      "cell_type": "markdown",
      "metadata": {
        "id": "j3omr3Eos0h6"
      },
      "source": [
        "**6. Show the first two named entities from Beatrix Potter's *The Tale of Peter Rabbit* **"
      ]
    },
    {
      "cell_type": "code",
      "execution_count": 24,
      "metadata": {
        "id": "yLbKhXjBs0h7",
        "colab": {
          "base_uri": "https://localhost:8080/"
        },
        "outputId": "5d57fe48-2f98-4c92-cbb6-d693be3f0a06"
      },
      "outputs": [
        {
          "output_type": "stream",
          "name": "stdout",
          "text": [
            "First Two Named Entities:\n",
            "1. Text: The Tale of Peter Rabbit, Label: WORK_OF_ART\n",
            "2. Text: Beatrix Potter, Label: PERSON\n"
          ]
        }
      ],
      "source": [
        "named_entities = [(ent.text, ent.label_) for ent in doc.ents]\n",
        "print(\"First Two Named Entities:\")\n",
        "for i, (text, label) in enumerate(named_entities[:2], start=1):\n",
        "    print(f\"{i}. Text: {text}, Label: {label}\")"
      ]
    },
    {
      "cell_type": "markdown",
      "metadata": {
        "id": "DrOnMNr0s0h8"
      },
      "source": [
        "**7. How many sentences are contained in *The Tale of Peter Rabbit*?**"
      ]
    },
    {
      "cell_type": "code",
      "execution_count": 25,
      "metadata": {
        "id": "8oKvj9yVs0h8",
        "colab": {
          "base_uri": "https://localhost:8080/"
        },
        "outputId": "844170da-2beb-46e6-8926-7ae687eb7eba"
      },
      "outputs": [
        {
          "output_type": "stream",
          "name": "stdout",
          "text": [
            "The Tale of Peter Rabbit contains 6 sentences.\n"
          ]
        }
      ],
      "source": [
        "num_sentences = len(list(doc.sents))\n",
        "print(f\"The Tale of Peter Rabbit contains {num_sentences} sentences.\")"
      ]
    },
    {
      "cell_type": "markdown",
      "metadata": {
        "id": "LIm_GldCs0h9"
      },
      "source": [
        "**8. CHALLENGE: How many sentences contain named entities?**"
      ]
    },
    {
      "cell_type": "code",
      "execution_count": 26,
      "metadata": {
        "id": "LJsfhRS9s0h9",
        "colab": {
          "base_uri": "https://localhost:8080/"
        },
        "outputId": "4c626c66-eb7b-48ab-db59-602f089f63de"
      },
      "outputs": [
        {
          "output_type": "stream",
          "name": "stdout",
          "text": [
            "The Tale of Peter Rabbit contains 5 sentences with named entities.\n"
          ]
        }
      ],
      "source": [
        "num_sentences_with_entities = sum(1 for sent in doc.sents if any(ent for ent in sent.ents))\n",
        "\n",
        "print(f\"The Tale of Peter Rabbit contains {num_sentences_with_entities} sentences with named entities.\")\n"
      ]
    },
    {
      "cell_type": "markdown",
      "metadata": {
        "id": "nz51AqVos0h-"
      },
      "source": [
        "**9. CHALLENGE: Display the named entity visualization for `list_of_sents[0]` from the previous problem**"
      ]
    },
    {
      "cell_type": "code",
      "execution_count": 27,
      "metadata": {
        "id": "Vhz-6Csqs0h_",
        "colab": {
          "base_uri": "https://localhost:8080/",
          "height": 122
        },
        "outputId": "fbc50680-f9b5-4ca3-b2bb-518d0a7b710c"
      },
      "outputs": [
        {
          "output_type": "display_data",
          "data": {
            "text/plain": [
              "<IPython.core.display.HTML object>"
            ],
            "text/html": [
              "<span class=\"tex2jax_ignore\"><div class=\"entities\" style=\"line-height: 2.5; direction: ltr\">\n",
              "<mark class=\"entity\" style=\"background: #f0d0ff; padding: 0.45em 0.6em; margin: 0 0.25em; line-height: 1; border-radius: 0.35em;\">\n",
              "    The Tale of Peter Rabbit\n",
              "    <span style=\"font-size: 0.8em; font-weight: bold; line-height: 1; border-radius: 0.35em; vertical-align: middle; margin-left: 0.5rem\">WORK_OF_ART</span>\n",
              "</mark>\n",
              " is a children's book written and illustrated by \n",
              "<mark class=\"entity\" style=\"background: #aa9cfc; padding: 0.45em 0.6em; margin: 0 0.25em; line-height: 1; border-radius: 0.35em;\">\n",
              "    Beatrix Potter\n",
              "    <span style=\"font-size: 0.8em; font-weight: bold; line-height: 1; border-radius: 0.35em; vertical-align: middle; margin-left: 0.5rem\">PERSON</span>\n",
              "</mark>\n",
              " that follows mischievous and disobedient young \n",
              "<mark class=\"entity\" style=\"background: #aa9cfc; padding: 0.45em 0.6em; margin: 0 0.25em; line-height: 1; border-radius: 0.35em;\">\n",
              "    Peter Rabbit\n",
              "    <span style=\"font-size: 0.8em; font-weight: bold; line-height: 1; border-radius: 0.35em; vertical-align: middle; margin-left: 0.5rem\">PERSON</span>\n",
              "</mark>\n",
              " as he gets into, and is chased around, the garden of Mr. \n",
              "<mark class=\"entity\" style=\"background: #aa9cfc; padding: 0.45em 0.6em; margin: 0 0.25em; line-height: 1; border-radius: 0.35em;\">\n",
              "    McGregor\n",
              "    <span style=\"font-size: 0.8em; font-weight: bold; line-height: 1; border-radius: 0.35em; vertical-align: middle; margin-left: 0.5rem\">PERSON</span>\n",
              "</mark>\n",
              ". </div></span>"
            ]
          },
          "metadata": {}
        }
      ],
      "source": [
        "sentences_with_entities = [sent for sent in doc.sents if any(ent for ent in sent.ents)]\n",
        "if sentences_with_entities:\n",
        "    first_sentence_with_entities = sentences_with_entities[0]\n",
        "    displacy.render(first_sentence_with_entities, style=\"ent\", jupyter=True)\n",
        "else:\n",
        "    print(\"No sentences with named entities found.\")"
      ]
    }
  ],
  "metadata": {
    "kernelspec": {
      "display_name": "Python 3",
      "language": "python",
      "name": "python3"
    },
    "language_info": {
      "codemirror_mode": {
        "name": "ipython",
        "version": 3
      },
      "file_extension": ".py",
      "mimetype": "text/x-python",
      "name": "python",
      "nbconvert_exporter": "python",
      "pygments_lexer": "ipython3",
      "version": "3.6.2"
    },
    "colab": {
      "provenance": []
    }
  },
  "nbformat": 4,
  "nbformat_minor": 0
}